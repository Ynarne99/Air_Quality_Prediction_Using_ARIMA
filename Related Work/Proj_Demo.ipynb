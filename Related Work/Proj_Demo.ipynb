{
  "nbformat": 4,
  "nbformat_minor": 0,
  "metadata": {
    "colab": {
      "name": "Proj Demo.ipynb",
      "provenance": [],
      "collapsed_sections": []
    },
    "kernelspec": {
      "name": "python3",
      "display_name": "Python 3"
    }
  },
  "cells": [
    {
      "cell_type": "markdown",
      "metadata": {
        "id": "pzOZZztw5Yza"
      },
      "source": [
        "__Data:__\n",
        "\n",
        "https://archive.ics.uci.edu/ml/datasets/Beijing+Multi-Site+Air-Quality+Data\n",
        "\n",
        "- Note: automate as much as possible so you can easily get fresh data. \n",
        "\n",
        "- List the data you need and how much you need.\n",
        "\n",
        "- Find and document where you can get that data.\n",
        "  * https://archive.ics.uci.edu/ml/datasets/Beijing+Multi-Site+Air-Quality+Data\n",
        "- Check how much space it will take.\n",
        "  * \n",
        "- Check legal obligations, and get the authorization if necessary.\n",
        "  * available\n",
        "- Get access authorizations.\n",
        "  * available\n",
        "- Create a workspace (with enough storage space).\n",
        "  * Yes\n",
        "- Get the data.\n",
        "  * https://archive.ics.uci.edu/ml/datasets/Beijing+Multi-Site+Air-Quality+Data\n",
        "- Convert the data to a format you can easily manipulate (without changing the data itself).\n",
        "  * Data is in CSV format\n",
        "- Ensure sensitive information is deleted or protected (e.g., anonymized).\n",
        "  * No sensitive data\n",
        "- Check the size and type of data (time series, sample, geographical, etc.).\n",
        "  * Time Series data\n",
        "- Sample a test set, put it aside, and never look at it (no data snooping!).\n",
        "   * Yet to do this"
      ]
    },
    {
      "cell_type": "markdown",
      "metadata": {
        "id": "h9Q997NO9Cy9"
      },
      "source": [
        "###Proposal\n",
        "\n",
        "\n",
        "1. Define the objective in business terms. \n",
        "The main goal is to predict the PM 2.5 levels in the air to determine the Air quality of Beijing. There are multiple datasets concerning different districts in Beijing. The data was recorded hourly for each district.Throughout, missing values have been filled as NaNs.\n",
        "\n",
        "Fine particulate matter (PM2.5) is an air pollutant that is a concern for people's health when levels in air are high. PM2.5 are tiny particles in the air that reduce visibility and cause the air to appear hazy when levels are elevated.\n",
        "\n",
        "The main objective is to create a model based on the given data and determine which cities are more air polluted than the other and show the trend among different cities.\n",
        "\n",
        "2. How will your solution be used?\n",
        "The solution can be used to analyse the increse or decrease the trend of air quality among the cities and take appropriate measures in the cities where air quality is bad.\n",
        "\n",
        "3. What are the current solutions/workarounds (if any)?\n",
        "Analyse the trend by training the model using different regression techniques such as Logistic regression and  SGD Regressor as the best optimization technique and the use SVM regreesor or any ML model to improve the results.\n",
        "\n",
        "4. How should you frame this problem (supervised/unsupervised, online/offline, etc.)\n",
        "Supervised\n",
        "\n",
        "5. How should performance be measured?\n",
        "Performance is measured using Air Quality Index (AQI) scale.\n",
        "\n",
        "6. Is the performance measure aligned with the business objective?\n",
        "Yes\n",
        "\n",
        "7. What would be the minimum performance needed to reach the business objective?\n",
        "\n",
        "\n",
        "8. What are comparable problems? Can you reuse experience or tools? \n",
        "As the data is from different companies, measurement values might differ. Once the model is build, it can be reused.\n",
        "\n",
        "9. Is human expertise available? Yes\n",
        "   https://aaqr.org/articles/aaqr-16-07-2015aac-0307.pdf\n",
        "\n",
        "10. How would you solve the problem manually?\n",
        "AQI scale is to be prefixed based on Air Quality and if the values are good, then the city's Air quality is good and vice versa.\n",
        "\n",
        "11. List the assumptions you or others have made so far.\n",
        "\n",
        "12. Verify assumptions if possible.\n",
        "\n",
        "13. How would you understand that this project is successfull?"
      ]
    },
    {
      "cell_type": "code",
      "metadata": {
        "id": "RnWMW1pa5UvZ"
      },
      "source": [
        ""
      ],
      "execution_count": null,
      "outputs": []
    }
  ]
}